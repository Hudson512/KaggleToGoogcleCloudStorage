{
 "cells": [
  {
   "cell_type": "code",
   "execution_count": null,
   "id": "5769878a-fd8c-41aa-90b5-5ffc1084eb26",
   "metadata": {
    "tags": []
   },
   "outputs": [],
   "source": [
    "# Instalar o Kaggle\n",
    "!pip install -q kaggle\n",
    "\n",
    "# Criar pasta de credenciais\n",
    "!mkdir -p ~/.kaggle\n"
   ]
  },
  {
   "cell_type": "code",
   "execution_count": null,
   "id": "b2340ca8-3e35-466a-8a4b-2c4cc7b7bb18",
   "metadata": {
    "tags": []
   },
   "outputs": [],
   "source": [
    "!cp kaggle.json ~/.kaggle/kaggle.json\n",
    "!chmod 600 ~/.kaggle/kaggle.json"
   ]
  },
  {
   "cell_type": "code",
   "execution_count": null,
   "id": "8b48a367-13f5-49f2-8c90-b0c77e8eadf6",
   "metadata": {
    "tags": []
   },
   "outputs": [],
   "source": [
    "!kaggle datasets download -d moltean/fruits\n"
   ]
  },
  {
   "cell_type": "code",
   "execution_count": null,
   "id": "56cd3a7b-3c71-4dae-9b6b-f056e7036e48",
   "metadata": {
    "tags": []
   },
   "outputs": [],
   "source": [
    "!unzip -q fruits.zip -d fruits"
   ]
  },
  {
   "cell_type": "code",
   "execution_count": null,
   "id": "be455728-cfd7-4578-ac8b-5a78f276cc6f",
   "metadata": {
    "tags": []
   },
   "outputs": [],
   "source": [
    "import csv\n",
    "import os\n",
    "\n",
    "bucket_name = \"dataset_download\"\n",
    "csv_path = \"dataset.csv\"\n",
    "\n",
    "sets = {\n",
    "    \"TRAIN\": \"fruits/fruits-360_original-size/fruits-360-original-size/Training\",\n",
    "    \"VALIDATION\": \"fruits/fruits-360_original-size/fruits-360-original-size/Test\",  # ou Validation se tiver\n",
    "}\n",
    "\n",
    "with open(csv_path, \"w\", newline=\"\") as f:\n",
    "    writer = csv.writer(f)\n",
    "    writer.writerow([\"SET\", \"IMAGE_PATH\", \"LABEL\"])\n",
    "    \n",
    "    for set_name, base_path in sets.items():\n",
    "        for label in os.listdir(base_path):\n",
    "            class_path = os.path.join(base_path, label)\n",
    "            if os.path.isdir(class_path):\n",
    "                for image in os.listdir(class_path):\n",
    "                    image_path = f\"gs://{bucket_name}/images/{label}/{image}\"\n",
    "                    writer.writerow([set_name, image_path, label])\n",
    "\n"
   ]
  },
  {
   "cell_type": "code",
   "execution_count": null,
   "id": "e09daefa-542c-4980-a6f6-0a75b5abd4e3",
   "metadata": {
    "tags": []
   },
   "outputs": [],
   "source": [
    "# Enviar imagens (modo recursivo e paralelo)\n",
    "!gsutil -m cp -r fruits/fruits-360_original-size/fruits-360-original-size/Training/* gs://dataset_download/images/\n",
    "\n",
    "# Enviar CSV\n",
    "!gsutil cp dataset.csv gs://dataset_download/\n"
   ]
  },
  {
   "cell_type": "code",
   "execution_count": null,
   "id": "fef1fb9f-a61c-4fd1-935a-5b22a2ba42a6",
   "metadata": {
    "tags": []
   },
   "outputs": [],
   "source": [
    "!gsutil ls  gs://dataset_download/images/ | head\n",
    "!gsutil ls  gs://dataset_download/dataset.csv"
   ]
  },
  {
   "cell_type": "code",
   "execution_count": null,
   "id": "f779d361-ab2b-41b4-b381-c12f786fcd7e",
   "metadata": {
    "tags": []
   },
   "outputs": [],
   "source": [
    "!gsutil -m cp -r fruits/fruits-360_original-size/fruits-360-original-size/Validation/* gs://dataset_download/images/"
   ]
  },
  {
   "cell_type": "code",
   "execution_count": null,
   "id": "29512e9d-c1d6-4ff6-85bd-871b940f42df",
   "metadata": {},
   "outputs": [],
   "source": []
  }
 ],
 "metadata": {
  "environment": {
   "kernel": "conda-base-py",
   "name": "workbench-notebooks.m131",
   "type": "gcloud",
   "uri": "us-docker.pkg.dev/deeplearning-platform-release/gcr.io/workbench-notebooks:m131"
  },
  "kernelspec": {
   "display_name": "Python 3 (ipykernel)",
   "language": "python",
   "name": "conda-base-py"
  },
  "language_info": {
   "codemirror_mode": {
    "name": "ipython",
    "version": 3
   },
   "file_extension": ".py",
   "mimetype": "text/x-python",
   "name": "python",
   "nbconvert_exporter": "python",
   "pygments_lexer": "ipython3",
   "version": "3.10.18"
  }
 },
 "nbformat": 4,
 "nbformat_minor": 5
}
